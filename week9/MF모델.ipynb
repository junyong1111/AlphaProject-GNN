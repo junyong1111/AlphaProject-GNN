{
  "nbformat": 4,
  "nbformat_minor": 0,
  "metadata": {
    "colab": {
      "provenance": [],
      "collapsed_sections": [
        "mNQu7ar_KDqW"
      ]
    },
    "kernelspec": {
      "name": "python3",
      "display_name": "Python 3"
    },
    "language_info": {
      "name": "python"
    }
  },
  "cells": [
    {
      "cell_type": "markdown",
      "source": [
        "### 초기 셋팅"
      ],
      "metadata": {
        "id": "ssNfX5OYEpoa"
      }
    },
    {
      "cell_type": "code",
      "source": [
        "!pip install torch-geometric\n",
        "!pip install -q git+https://github.com/snap-stanford/deepsnap.git\n",
        "\"\"\"\n",
        "DeepSNAP는 그래프 신경망(Graph Neural Networks)을 구축하고 훈련하기 위한 파이썬 패키지\n",
        "DeepSNAP은 PyTorch 기반의 그래프 신경망 라이브러리 PyG(PyTorch Geometric)에서 영감을 받아 개발되었다. DeepSNAP은 PyG와 유사한 인터페이스를 제공하여 그래프 데이터를 로드하고 전처리할 수 있다.\n",
        "\"\"\"\n",
        "!pip install -U -q PyDrive\n",
        "!pip install torch_scatter -f https://data.pyg.org/whl/torch-2.1.0+cu118.html\n",
        "!pip install torch-sparse -f https://data.pyg.org/whl/torch-2.1.0+cu118.html\n",
        "\n",
        "import torch\n",
        "import torch.nn as nn\n",
        "\n",
        "device = torch.device(\"cuda:0\" if torch.cuda.is_available() else \"cpu\")\n",
        "print(device)\n",
        "use_cuda = torch.cuda.is_available()\n",
        "print(use_cuda)\n",
        "if use_cuda:\n",
        "  print(torch.cuda.get_device_name(0))\n",
        "\n",
        "# Install required packages.\n",
        "# !pip install torch-sparse\n",
        "print(torch.__version__)\n",
        "print(torch.version.cuda)\n",
        "\n",
        "import numpy as np\n",
        "import pandas as pd\n",
        "import random\n",
        "from tqdm import tqdm\n",
        "import matplotlib.pyplot as plt\n",
        "from sklearn.model_selection import train_test_split\n",
        "from torch import nn, optim, Tensor\n",
        "from torch_sparse import SparseTensor, matmul\n",
        "from torch_geometric.utils import structured_negative_sampling\n",
        "from torch_geometric.data import download_url, extract_zip\n",
        "from torch_geometric.nn.conv.gcn_conv import gcn_norm\n",
        "from torch_geometric.nn.conv import MessagePassing\n",
        "from torch_geometric.typing import Adj\n",
        "#-- import required modules Blog\n",
        "\n",
        "# download the dataset\n",
        "url = 'https://files.grouplens.org/datasets/movielens/ml-latest-small.zip'\n",
        "extract_zip(download_url(url, '.'), '.')\n",
        "\n",
        "rating_path = '/content/ml-latest-small/ratings.csv'\n",
        "item_path = \"/content/ml-latest-small/movies.csv\""
      ],
      "metadata": {
        "colab": {
          "base_uri": "https://localhost:8080/"
        },
        "id": "IwaaUaTTEZMN",
        "outputId": "391b79ac-4e3a-4ec9-9453-157d591c0c3a"
      },
      "execution_count": null,
      "outputs": [
        {
          "output_type": "stream",
          "name": "stdout",
          "text": [
            "Collecting torch-geometric\n",
            "  Downloading torch_geometric-2.4.0-py3-none-any.whl (1.0 MB)\n",
            "\u001b[?25l     \u001b[90m━━━━━━━━━━━━━━━━━━━━━━━━━━━━━━━━━━━━━━━━\u001b[0m \u001b[32m0.0/1.0 MB\u001b[0m \u001b[31m?\u001b[0m eta \u001b[36m-:--:--\u001b[0m\r\u001b[2K     \u001b[91m━━━━━\u001b[0m\u001b[91m╸\u001b[0m\u001b[90m━━━━━━━━━━━━━━━━━━━━━━━━━━━━━━━━━━\u001b[0m \u001b[32m0.2/1.0 MB\u001b[0m \u001b[31m4.4 MB/s\u001b[0m eta \u001b[36m0:00:01\u001b[0m\r\u001b[2K     \u001b[91m━━━━━━━━━━━━━━━━━━━━━━━━━━━━━━━━━━━━━━━\u001b[0m\u001b[91m╸\u001b[0m \u001b[32m1.0/1.0 MB\u001b[0m \u001b[31m16.2 MB/s\u001b[0m eta \u001b[36m0:00:01\u001b[0m\r\u001b[2K     \u001b[90m━━━━━━━━━━━━━━━━━━━━━━━━━━━━━━━━━━━━━━━━\u001b[0m \u001b[32m1.0/1.0 MB\u001b[0m \u001b[31m14.4 MB/s\u001b[0m eta \u001b[36m0:00:00\u001b[0m\n",
            "\u001b[?25hRequirement already satisfied: tqdm in /usr/local/lib/python3.10/dist-packages (from torch-geometric) (4.66.1)\n",
            "Requirement already satisfied: numpy in /usr/local/lib/python3.10/dist-packages (from torch-geometric) (1.23.5)\n",
            "Requirement already satisfied: scipy in /usr/local/lib/python3.10/dist-packages (from torch-geometric) (1.11.3)\n",
            "Requirement already satisfied: jinja2 in /usr/local/lib/python3.10/dist-packages (from torch-geometric) (3.1.2)\n",
            "Requirement already satisfied: requests in /usr/local/lib/python3.10/dist-packages (from torch-geometric) (2.31.0)\n",
            "Requirement already satisfied: pyparsing in /usr/local/lib/python3.10/dist-packages (from torch-geometric) (3.1.1)\n",
            "Requirement already satisfied: scikit-learn in /usr/local/lib/python3.10/dist-packages (from torch-geometric) (1.2.2)\n",
            "Requirement already satisfied: psutil>=5.8.0 in /usr/local/lib/python3.10/dist-packages (from torch-geometric) (5.9.5)\n",
            "Requirement already satisfied: MarkupSafe>=2.0 in /usr/local/lib/python3.10/dist-packages (from jinja2->torch-geometric) (2.1.3)\n",
            "Requirement already satisfied: charset-normalizer<4,>=2 in /usr/local/lib/python3.10/dist-packages (from requests->torch-geometric) (3.3.1)\n",
            "Requirement already satisfied: idna<4,>=2.5 in /usr/local/lib/python3.10/dist-packages (from requests->torch-geometric) (3.4)\n",
            "Requirement already satisfied: urllib3<3,>=1.21.1 in /usr/local/lib/python3.10/dist-packages (from requests->torch-geometric) (2.0.7)\n",
            "Requirement already satisfied: certifi>=2017.4.17 in /usr/local/lib/python3.10/dist-packages (from requests->torch-geometric) (2023.7.22)\n",
            "Requirement already satisfied: joblib>=1.1.1 in /usr/local/lib/python3.10/dist-packages (from scikit-learn->torch-geometric) (1.3.2)\n",
            "Requirement already satisfied: threadpoolctl>=2.0.0 in /usr/local/lib/python3.10/dist-packages (from scikit-learn->torch-geometric) (3.2.0)\n",
            "Installing collected packages: torch-geometric\n",
            "Successfully installed torch-geometric-2.4.0\n",
            "  Preparing metadata (setup.py) ... \u001b[?25l\u001b[?25hdone\n",
            "  Building wheel for deepsnap (setup.py) ... \u001b[?25l\u001b[?25hdone\n",
            "Looking in links: https://data.pyg.org/whl/torch-2.1.0+cu118.html\n",
            "Collecting torch_scatter\n",
            "  Downloading https://data.pyg.org/whl/torch-2.1.0%2Bcu118/torch_scatter-2.1.2%2Bpt21cu118-cp310-cp310-linux_x86_64.whl (10.2 MB)\n",
            "\u001b[2K     \u001b[90m━━━━━━━━━━━━━━━━━━━━━━━━━━━━━━━━━━━━━━━━\u001b[0m \u001b[32m10.2/10.2 MB\u001b[0m \u001b[31m48.5 MB/s\u001b[0m eta \u001b[36m0:00:00\u001b[0m\n",
            "\u001b[?25hInstalling collected packages: torch_scatter\n",
            "Successfully installed torch_scatter-2.1.2+pt21cu118\n",
            "Looking in links: https://data.pyg.org/whl/torch-2.1.0+cu118.html\n",
            "Collecting torch-sparse\n",
            "  Downloading https://data.pyg.org/whl/torch-2.1.0%2Bcu118/torch_sparse-0.6.18%2Bpt21cu118-cp310-cp310-linux_x86_64.whl (4.9 MB)\n",
            "\u001b[2K     \u001b[90m━━━━━━━━━━━━━━━━━━━━━━━━━━━━━━━━━━━━━━━━\u001b[0m \u001b[32m4.9/4.9 MB\u001b[0m \u001b[31m25.3 MB/s\u001b[0m eta \u001b[36m0:00:00\u001b[0m\n",
            "\u001b[?25hRequirement already satisfied: scipy in /usr/local/lib/python3.10/dist-packages (from torch-sparse) (1.11.3)\n",
            "Requirement already satisfied: numpy<1.28.0,>=1.21.6 in /usr/local/lib/python3.10/dist-packages (from scipy->torch-sparse) (1.23.5)\n",
            "Installing collected packages: torch-sparse\n",
            "Successfully installed torch-sparse-0.6.18+pt21cu118\n",
            "cpu\n",
            "False\n",
            "2.1.0+cu118\n",
            "11.8\n"
          ]
        },
        {
          "output_type": "stream",
          "name": "stderr",
          "text": [
            "Downloading https://files.grouplens.org/datasets/movielens/ml-latest-small.zip\n",
            "Extracting ./ml-latest-small.zip\n"
          ]
        }
      ]
    },
    {
      "cell_type": "code",
      "source": [
        "remove_size = 30\n",
        "# def MF_data(path, data_frame, rating_threshold = 5, excluded_user =None):\n",
        "\n",
        "def blog_LightGCN_data(path, data_frame, rating_threshold =5, excluded_user=None):\n",
        "\n",
        "  #-- 유저, 아이템 매핑\n",
        "  rating_data = pd.read_csv(path[0], index_col= data_frame[0])\n",
        "  item_data = pd.read_csv(path[1], index_col= data_frame[1])\n",
        "  data = pd.read_csv(path[0])\n",
        "\n",
        "\n",
        "  #-- 테스트를 위한 특정 유저의 가장 앞에 있는 데이터 삭제\n",
        "\n",
        "  if excluded_user is not None:\n",
        "    print(\"{}번째 유저 {}이상 데이터 삭제하기 전\".format(excluded_user, rating_threshold))\n",
        "    excluded_user_data = data[data[data_frame[0]] == excluded_user]\n",
        "    print(excluded_user_data.head(10))\n",
        "\n",
        "    user_data = data[data[data_frame[0]] == excluded_user]\n",
        "    user_data_5stars = user_data[user_data[data_frame[2]] >= rating_threshold]  # Filter the data with a rating of 5.0r_user_data[r_user_data[data_frame[2]] == 5.0]  # Filter the data with a rating of 5.0\n",
        "\n",
        "    r_user_data =  rating_data[rating_data.index == excluded_user].reset_index()\n",
        "\n",
        "    if not user_data_5stars.empty:\n",
        "      excluded_number = remove_size\n",
        "      user_data_5stars = user_data_5stars.head(excluded_number)\n",
        "      r_user_data_5stars = r_user_data[r_user_data[data_frame[2]] >= rating_threshold]\n",
        "      data = data.drop(user_data_5stars.index)\n",
        "\n",
        "      row_index = []\n",
        "      for i in range(0,excluded_number):\n",
        "        row_index.append(r_user_data_5stars.iloc[i].name)\n",
        "\n",
        "      rating_data = rating_data.reset_index().drop(row_index[0])\n",
        "      rating_data.set_index(data_frame[0], inplace=True)\n",
        "      for i in range(1, len(row_index)) :\n",
        "        rating_data = rating_data.reset_index().drop(row_index[i]-i)\n",
        "      # rating_data = rating_data.drop(rating_data.iloc.nam)\n",
        "        rating_data.set_index(data_frame[0], inplace=True)\n",
        "\n",
        "    excluded_user_data = data[data[data_frame[0]] == excluded_user]\n",
        "    print(\"\\n\\n\\n{}번째 유저 {} 이상 데이터 삭제하기 후\".format(excluded_user, rating_threshold))\n",
        "    print(excluded_user_data.head(10))\n",
        "\n",
        "  # # rating_data의 컬럼 확인\n",
        "  # print(rating_data.head(5))\n",
        "\n",
        "  user_mapping = {index: i for i, index in enumerate(rating_data.index.unique())}\n",
        "  item_mapping = {index: i for i, index in enumerate(item_data.index.unique())}\n",
        "\n",
        "  #-- 매핑 데이터로 edge연결\n",
        "  edge_index = None\n",
        "  src = [user_mapping[index] for index in data[data_frame[0]]]\n",
        "  dst = [item_mapping[index] for index in data[data_frame[1]]]\n",
        "  edge_attr = torch.from_numpy(data[data_frame[2]].values).view(-1, 1).to(torch.long) >= 3.5\n",
        "\n",
        "  edge_index = [[], []]\n",
        "  for i in range(edge_attr.shape[0]):\n",
        "    if edge_attr[i]:\n",
        "        edge_index[0].append(src[i])\n",
        "        edge_index[1].append(dst[i])\n",
        "  edge_index = torch.tensor(edge_index)\n",
        "\n",
        "  #-- 데이터 분할 8:1:1\n",
        "  num_users, num_movies = len(user_mapping), len(item_mapping)\n",
        "  num_interactions = edge_index.shape[1]\n",
        "  all_indices = [i for i in range(num_interactions)]\n",
        "\n",
        "  train_indices, test_indices = train_test_split(\n",
        "      all_indices, test_size=0.2, random_state=1)\n",
        "  val_indices, test_indices = train_test_split(\n",
        "      test_indices, test_size=0.5, random_state=1)\n",
        "\n",
        "  train_edge_index = edge_index[:, train_indices]\n",
        "  val_edge_index = edge_index[:, val_indices]\n",
        "  test_edge_index = edge_index[:, test_indices]\n",
        "\n",
        "  print(\"Train Edge Data : \", train_edge_index.shape)\n",
        "  print(\"Val Edge Data :\", val_edge_index.shape)\n",
        "  print(\"Test Edge Data : \", test_edge_index.shape)\n",
        "\n",
        "  #-- 연결된 엣지를 희소행렬로 변환\n",
        "  # convert edge indices into Sparse Tensors: https://pytorch-geometric.readthedocs.io/en/latest/notes/sparse_tensor.html\n",
        "  from torch_geometric.utils import train_test_split_edges\n",
        "\n",
        "  train_sparse_edge_index = SparseTensor(row=train_edge_index[0], col=train_edge_index[1], sparse_sizes=(\n",
        "      num_users + num_movies, num_users + num_movies))\n",
        "  val_sparse_edge_index = SparseTensor(row=val_edge_index[0], col=val_edge_index[1], sparse_sizes=(\n",
        "      num_users + num_movies, num_users + num_movies))\n",
        "  test_sparse_edge_index = SparseTensor(row=test_edge_index[0], col=test_edge_index[1], sparse_sizes=(\n",
        "      num_users + num_movies, num_users + num_movies))\n",
        "\n",
        "  tet_edge_data = [edge_index, train_edge_index, val_edge_index, test_edge_index]\n",
        "  tet_sparse_data = [train_sparse_edge_index, val_sparse_edge_index, test_sparse_edge_index]\n",
        "  return tet_edge_data, tet_sparse_data, user_mapping, item_mapping\n",
        "#-- Blog --"
      ],
      "metadata": {
        "id": "FWvy7WZfEjqo"
      },
      "execution_count": null,
      "outputs": []
    },
    {
      "cell_type": "code",
      "source": [
        "excluded_user_id = 50\n",
        "data_frame = [\"userId\", \"movieId\", \"rating\"]\n",
        "path = [rating_path, item_path]\n",
        "rating_threshold = 4\n",
        "\n",
        "blog_tet_edge_data, blog_tet_sparse_data, user_mapping, item_mapping = blog_LightGCN_data(path, data_frame, rating_threshold, excluded_user_id)"
      ],
      "metadata": {
        "colab": {
          "base_uri": "https://localhost:8080/"
        },
        "id": "mtDiSo12EoTe",
        "outputId": "491b4d18-6c9b-4dd8-ecb1-e2ad74928214"
      },
      "execution_count": null,
      "outputs": [
        {
          "output_type": "stream",
          "name": "stdout",
          "text": [
            "50번째 유저 4이상 데이터 삭제하기 전\n",
            "      userId  movieId  rating   timestamp\n",
            "7112      50        1     3.0  1514238116\n",
            "7113      50       32     3.0  1523740563\n",
            "7114      50      111     4.0  1534178790\n",
            "7115      50      165     3.0  1514238058\n",
            "7116      50      296     4.0  1500573696\n",
            "7117      50      318     3.5  1514237959\n",
            "7118      50      356     3.0  1514238146\n",
            "7119      50      541     4.0  1514238015\n",
            "7120      50      593     3.5  1514237974\n",
            "7121      50      596     2.0  1514238575\n",
            "\n",
            "\n",
            "\n",
            "50번째 유저 4 이상 데이터 삭제하기 후\n",
            "      userId  movieId  rating   timestamp\n",
            "7112      50        1     3.0  1514238116\n",
            "7113      50       32     3.0  1523740563\n",
            "7115      50      165     3.0  1514238058\n",
            "7117      50      318     3.5  1514237959\n",
            "7118      50      356     3.0  1514238146\n",
            "7120      50      593     3.5  1514237974\n",
            "7121      50      596     2.0  1514238575\n",
            "7123      50      741     3.5  1515105957\n",
            "7125      50      783     2.5  1514238681\n",
            "7126      50      837     2.5  1514239044\n",
            "Train Edge Data :  torch.Size([2, 38840])\n",
            "Val Edge Data : torch.Size([2, 4855])\n",
            "Test Edge Data :  torch.Size([2, 4855])\n"
          ]
        }
      ]
    },
    {
      "cell_type": "markdown",
      "source": [
        "### MF모델 정의"
      ],
      "metadata": {
        "id": "kLNulnmHEtSd"
      }
    },
    {
      "cell_type": "markdown",
      "source": [
        "#### 테스트용"
      ],
      "metadata": {
        "id": "cEjETlZ2Y9Tq"
      }
    },
    {
      "cell_type": "code",
      "source": [
        "num_users = blog_tet_edge_data[0][0].max().item()+1\n",
        "num_items = blog_tet_edge_data[0][1].max().item()+1\n",
        "embedding_dim = 32\n",
        "\n",
        "user_indices = blog_tet_edge_data[1][0]\n",
        "item_indices = blog_tet_edge_data[1][1]\n",
        "\n",
        "mf_user_embeddings = nn.Embedding(num_users, embedding_dim)\n",
        "mf_item_embeddings = nn.Embedding(num_items, embedding_dim)\n",
        "\n",
        "\n",
        "nn.init.normal_(mf_user_embeddings.weight, std=0.1)\n",
        "nn.init.normal_(mf_item_embeddings.weight, std=0.1)\n",
        "\n",
        "print(mf_user_embeddings)\n",
        "print(mf_item_embeddings)\n",
        "\n",
        "print(\"user_indices size is \",user_indices.size()) #-- 38840 -> 유저-아이템 상호작용 횟수\n",
        "print(\"item_indices size is \",item_indices.size()) #-- 38840 -> 유저-아이템 상호작용 횟수\n",
        "\n",
        "#-- 처음 eu 임베딩값은 (610, 32)\n",
        "#-- 처음 ei 임베딩값은 (9742, 32)\n",
        "mf_user_embedding = mf_user_embeddings(user_indices)\n",
        "mf_item_embedding = mf_item_embeddings(item_indices)\n",
        "#-- 유저-아이템 상호작용 기반으로 유저 임베딩 아이템 임베딩\n",
        "\n",
        "print(\"user_embedding size is {}\".format(mf_user_embedding.size())) #-- [38840, 32]\n",
        "print(\"item_embedding size is {}\".format(mf_item_embedding.size())) #-- [38840, 32]\n",
        "\n",
        "\n",
        "predictions = (mf_user_embedding * mf_item_embedding).sum(1) #-- 38840 1차원으로\n",
        "print(\"predictions size is \",predictions.size())"
      ],
      "metadata": {
        "colab": {
          "base_uri": "https://localhost:8080/"
        },
        "id": "V2kBX-LNbyhy",
        "outputId": "323ec917-c198-45b6-cd9a-6fce11dd269d"
      },
      "execution_count": null,
      "outputs": [
        {
          "output_type": "stream",
          "name": "stdout",
          "text": [
            "Embedding(610, 32)\n",
            "Embedding(9742, 32)\n",
            "user_indices size is  torch.Size([38840])\n",
            "item_indices size is  torch.Size([38840])\n",
            "user_embedding size is torch.Size([38840, 32])\n",
            "item_embedding size is torch.Size([38840, 32])\n",
            "predictions size is  torch.Size([38840])\n"
          ]
        }
      ]
    },
    {
      "cell_type": "markdown",
      "source": [
        "#### MFGCN"
      ],
      "metadata": {
        "id": "UaY8zjJbY_VE"
      }
    },
    {
      "cell_type": "code",
      "source": [
        "class MFGCN(MessagePassing):\n",
        "      def __init__(self, num_users, num_items, embedding_dim=64, K=3, add_self_loops=False):\n",
        "          super().__init__()\n",
        "          self.num_users, self.num_items = num_users, num_items\n",
        "          self.embedding_dim, self.K = embedding_dim, K\n",
        "          self.add_self_loops = add_self_loops\n",
        "          self.users_emb = nn.Embedding(\n",
        "              num_embeddings=self.num_users, embedding_dim=self.embedding_dim) # e_u^0\n",
        "          self.items_emb = nn.Embedding(\n",
        "              num_embeddings=self.num_items, embedding_dim=self.embedding_dim) # e_i^0\n",
        "          nn.init.normal_(self.users_emb.weight, std=0.1)\n",
        "          nn.init.normal_(self.items_emb.weight, std=0.1)\n",
        "\n",
        "\n",
        "          self.mf_user_embedding = self.users_emb\n",
        "          self.mf_item_embedding = self.items_emb\n",
        "      def forward(self, edge_index: SparseTensor):\n",
        "          # compute \\tilde{A}: symmetrically normalized adjacency matrix\n",
        "          edge_index_norm = gcn_norm(\n",
        "              edge_index, add_self_loops=self.add_self_loops)\n",
        "\n",
        "          # print(self.users_emb) #-- Embedding(610, 32)\n",
        "          # print(self.items_emb) #-- Embedding(9742, 32)\n",
        "\n",
        "          #-- MF 기법 --#\n",
        "          # mf_user_embedding = self.users_emb\n",
        "          # mf_item_embedding = self.items_emb\n",
        "          # print(\"mf_user\", mf_user_embedding)\n",
        "          # print(\"mf_item_embedding\", mf_item_embedding)\n",
        "          row, col, _ = edge_index_norm.coo()\n",
        "          user_indices = row\n",
        "          item_indices = col\n",
        "          # print(\"user_indices size is \",user_indices.size()) #-- 38840 -> 유저-아이템 상호작용 횟수\n",
        "          # print(\"item_indices size is \",item_indices.size()) #-- 38840 -> 유저-아이템 상호작용 횟수\n",
        "          mf_user_embedding = self.users_emb(user_indices)\n",
        "          mf_item_embedding = self.items_emb(item_indices)\n",
        "\n",
        "          user_avg_emb = torch.zeros(self.num_users, self.embedding_dim).to(self.users_emb.weight.device)\n",
        "          item_avg_emb = torch.zeros(self.num_items, self.embedding_dim).to(self.items_emb.weight.device)\n",
        "\n",
        "          user_counts = torch.bincount(user_indices, minlength=self.num_users).float().clamp(min=1) # 최소 1로 설정하여 0으로 나누는 것을 방지\n",
        "          item_counts = torch.bincount(item_indices, minlength=self.num_items).float().clamp(min=1)\n",
        "\n",
        "          user_avg_emb.index_add_(0, user_indices, mf_user_embedding)\n",
        "          item_avg_emb.index_add_(0, item_indices, mf_item_embedding)\n",
        "\n",
        "          user_avg_emb /= user_counts.unsqueeze(-1)\n",
        "          item_avg_emb /= item_counts.unsqueeze(-1)\n",
        "\n",
        "          # predictions = (mf_user_embedding * mf_item_embedding).sum(1)\n",
        "          # --predictions size is  torch.Size([38840])\n",
        "          # print(predictions.size())\n",
        "\n",
        "          # print(\"user_embedding size is {}\".format(mf_user_embedding.size())) #-- [38840, 32]\n",
        "          # print(\"item_embedding size is {}\".format(mf_item_embedding.size())) #-- [38840, 32]\n",
        "          #-- MF 기법 --#\n",
        "\n",
        "          #== LightGCN ==#\n",
        "          emb_0 = torch.cat([self.users_emb.weight, self.items_emb.weight]) # E^0\n",
        "          embs = [emb_0]\n",
        "          emb_k = emb_0\n",
        "          # print(\"emb_0\", emb_0.size()) #-- 610 + 9742 => [10352, 32]\n",
        "\n",
        "          # multi-scale diffusion\n",
        "          for i in range(self.K):\n",
        "              emb_k = self.propagate(edge_index_norm, x=emb_k)\n",
        "              # print(\"emb_k\", emb_k.size()) #-- 610 + 9742 => [10352, 32]\n",
        "              embs.append(emb_k)\n",
        "          embs = torch.stack(embs, dim=1)\n",
        "\n",
        "          # print(\"embs\", embs.size()) #-- [10352, 4, 32] k만큼 추가\n",
        "\n",
        "          emb_final = torch.mean(embs, dim=1) # E^K 10352, 32\n",
        "          # print(\"emb_final is \", emb_final.size())\n",
        "\n",
        "          users_emb_final, items_emb_final = torch.split(\n",
        "              emb_final, [self.num_users, self.num_items]) # splits into e_u^K and e_i^K\n",
        "          # returns e_u^K, e_u^0, e_i^K, e_i^0\n",
        "          # print(\"users_emb_final is \", users_emb_final.size())\n",
        "          # print(\"items_emb_final is \", items_emb_final.size())\n",
        "          #== LightGCN ==#\n",
        "\n",
        "\n",
        "          # combined_users_emb = mf_user_embedding[user_indices] + users_emb_final[user_indices]\n",
        "          # combined_items_emb = mf_item_embedding[item_indices] + items_emb_final[item_indices]\n",
        "          combined_users_emb = user_avg_emb + users_emb_final\n",
        "          combined_items_emb = item_avg_emb + items_emb_final\n",
        "          # print(\"combined_users_emb\",combined_users_emb.size())\n",
        "          # print(\"combined_items_emb\",combined_items_emb.size())\n",
        "\n",
        "          # 결합된 임베딩 정규화 (옵션)\n",
        "          # combined_users_emb /= 2.0\n",
        "          # combined_items_emb /= 2.0\n",
        "          # e_u^K, e_u^0, e_i^K, e_i^0 형태로 임베딩 반환\n",
        "          return combined_users_emb, self.users_emb.weight, combined_items_emb, self.items_emb.weight\n",
        "\n",
        "          # return users_emb_final, self.users_emb.weight, items_emb_final, self.items_emb.weight\n",
        "\n",
        "      def message(self, x_j: Tensor) -> Tensor:\n",
        "          return x_j\n",
        "\n",
        "      def message_and_aggregate(self, adj_t: SparseTensor, x: Tensor) -> Tensor:\n",
        "          # computes \\tilde{A} @ x\n",
        "          return matmul(adj_t, x)"
      ],
      "metadata": {
        "id": "UI12a0PCvBfo"
      },
      "execution_count": null,
      "outputs": []
    },
    {
      "cell_type": "code",
      "source": [
        "blog_model = MFGCN(len(user_mapping), len(item_mapping), embedding_dim= 32)\n",
        "# model = model.to(device)\n",
        "# model.train()\n",
        "# LR = 1e-4\n",
        "# optimizer = optim.Adam(model.parameters(), lr=LR)\n",
        "# scheduler = optim.lr_scheduler.ExponentialLR(optimizer, gamma=0.95)\n",
        "\n",
        "# edge_index = blog_tet_edge_data[0].to(device)\n",
        "# train_edge_index = blog_tet_edge_data[1].to(device)\n",
        "# train_sparse_edge_index = blog_tet_sparse_data[0].to(device)\n",
        "\n",
        "\n",
        "# val_edge_index = blog_tet_edge_data[2].to(device)\n",
        "# val_sparse_edge_index = blog_tet_sparse_data[1].to(device)\n",
        "\n",
        "# users_emb_final, users_emb_0, items_emb_final, items_emb_0 = model.forward(\n",
        "#           train_sparse_edge_index)\n"
      ],
      "metadata": {
        "id": "3hGYtuZrvNKH"
      },
      "execution_count": null,
      "outputs": []
    },
    {
      "cell_type": "markdown",
      "source": [
        "### 모델 학습"
      ],
      "metadata": {
        "id": "mNQu7ar_KDqW"
      }
    },
    {
      "cell_type": "code",
      "source": [
        "#-- 손실함수 bpr\n",
        "def bpr_loss(users_emb_final, users_emb_0, pos_items_emb_final, pos_items_emb_0, neg_items_emb_final, neg_items_emb_0, lambda_val):\n",
        "    reg_loss = lambda_val * (users_emb_0.norm(2).pow(2) +\n",
        "                             pos_items_emb_0.norm(2).pow(2) +\n",
        "                             neg_items_emb_0.norm(2).pow(2)) # L2 loss\n",
        "\n",
        "    pos_scores = torch.mul(users_emb_final, pos_items_emb_final)\n",
        "    pos_scores = torch.sum(pos_scores, dim=-1) # predicted scores of positive samples\n",
        "    neg_scores = torch.mul(users_emb_final, neg_items_emb_final)\n",
        "    neg_scores = torch.sum(neg_scores, dim=-1) # predicted scores of negative samples\n",
        "\n",
        "    loss = -torch.mean(torch.nn.functional.softplus(pos_scores - neg_scores)) + reg_loss\n",
        "    return loss\n",
        "# function which random samples a mini-batch of positive and negative samples\n",
        "def sample_mini_batch(batch_size, edge_index):\n",
        "    edges = structured_negative_sampling(edge_index)\n",
        "    edges = torch.stack(edges, dim=0)\n",
        "    indices = random.choices(\n",
        "        [i for i in range(edges[0].shape[0])], k=batch_size)\n",
        "    batch = edges[:, indices]\n",
        "    user_indices, pos_item_indices, neg_item_indices = batch[0], batch[1], batch[2]\n",
        "    return user_indices, pos_item_indices, neg_item_indices\n",
        "\n",
        "# helper function to get N_u\n",
        "def get_user_positive_items(edge_index):\n",
        "    user_pos_items = {}\n",
        "    for i in range(edge_index.shape[1]):\n",
        "        user = edge_index[0][i].item()\n",
        "        item = edge_index[1][i].item()\n",
        "        if user not in user_pos_items:\n",
        "            user_pos_items[user] = []\n",
        "        user_pos_items[user].append(item)\n",
        "    return user_pos_items\n",
        "\n",
        "# computes recall@K and precision@K\n",
        "def RecallPrecision_ATk(groundTruth, r, k):\n",
        "    num_correct_pred = torch.sum(r, dim=-1)  # number of correctly predicted items per user\n",
        "    # number of items liked by each user in the test set\n",
        "    user_num_liked = torch.Tensor([len(groundTruth[i])\n",
        "                                  for i in range(len(groundTruth))])\n",
        "    recall = torch.mean(num_correct_pred / user_num_liked)\n",
        "    precision = torch.mean(num_correct_pred) / k\n",
        "    return recall.item(), precision.item()\n",
        "\n",
        "# computes NDCG@K\n",
        "def NDCGatK_r(groundTruth, r, k):\n",
        "    assert len(r) == len(groundTruth)\n",
        "\n",
        "    test_matrix = torch.zeros((len(r), k))\n",
        "\n",
        "    for i, items in enumerate(groundTruth):\n",
        "        length = min(len(items), k)\n",
        "        test_matrix[i, :length] = 1\n",
        "    max_r = test_matrix\n",
        "    idcg = torch.sum(max_r * 1. / torch.log2(torch.arange(2, k + 2)), axis=1)\n",
        "    dcg = r * (1. / torch.log2(torch.arange(2, k + 2)))\n",
        "    dcg = torch.sum(dcg, axis=1)\n",
        "    idcg[idcg == 0.] = 1.\n",
        "    ndcg = dcg / idcg\n",
        "    ndcg[torch.isnan(ndcg)] = 0.\n",
        "    return torch.mean(ndcg).item()\n",
        "\n",
        "# wrapper function to get evaluation metrics\n",
        "def get_metrics(model, edge_index, exclude_edge_indices, k):\n",
        "    user_embedding = model.users_emb.weight\n",
        "    item_embedding = model.items_emb.weight\n",
        "\n",
        "    # get ratings between every user and item - shape is num users x num movies\n",
        "    rating = torch.matmul(user_embedding, item_embedding.T)\n",
        "\n",
        "    for exclude_edge_index in exclude_edge_indices:\n",
        "        # gets all the positive items for each user from the edge index\n",
        "        user_pos_items = get_user_positive_items(exclude_edge_index)\n",
        "        # get coordinates of all edges to exclude\n",
        "        exclude_users = []\n",
        "        exclude_items = []\n",
        "        for user, items in user_pos_items.items():\n",
        "            exclude_users.extend([user] * len(items))\n",
        "            exclude_items.extend(items)\n",
        "\n",
        "        # set ratings of excluded edges to large negative value\n",
        "        rating[exclude_users, exclude_items] = -(1 << 10)\n",
        "\n",
        "    # get the top k recommended items for each user\n",
        "    _, top_K_items = torch.topk(rating, k=k)\n",
        "\n",
        "    # get all unique users in evaluated split\n",
        "    users = edge_index[0].unique()\n",
        "\n",
        "    test_user_pos_items = get_user_positive_items(edge_index)\n",
        "\n",
        "    # convert test user pos items dictionary into a list\n",
        "    test_user_pos_items_list = [\n",
        "        test_user_pos_items[user.item()] for user in users]\n",
        "\n",
        "    # determine the correctness of topk predictions\n",
        "    r = []\n",
        "    for user in users:\n",
        "        ground_truth_items = test_user_pos_items[user.item()]\n",
        "        label = list(map(lambda x: x in ground_truth_items, top_K_items[user]))\n",
        "        r.append(label)\n",
        "    r = torch.Tensor(np.array(r).astype('float'))\n",
        "\n",
        "    recall, precision = RecallPrecision_ATk(test_user_pos_items_list, r, k)\n",
        "    ndcg = NDCGatK_r(test_user_pos_items_list, r, k)\n",
        "\n",
        "    return recall, precision, ndcg\n",
        "# wrapper function to evaluate model\n",
        "def evaluation(model, edge_index, sparse_edge_index, exclude_edge_indices, k, lambda_val):\n",
        "    # get embeddings\n",
        "    users_emb_final, users_emb_0, items_emb_final, items_emb_0 = model.forward(\n",
        "        sparse_edge_index)\n",
        "    edges = structured_negative_sampling(\n",
        "        edge_index, contains_neg_self_loops=False)\n",
        "    user_indices, pos_item_indices, neg_item_indices = edges[0], edges[1], edges[2]\n",
        "    users_emb_final, users_emb_0 = users_emb_final[user_indices], users_emb_0[user_indices]\n",
        "    pos_items_emb_final, pos_items_emb_0 = items_emb_final[\n",
        "        pos_item_indices], items_emb_0[pos_item_indices]\n",
        "    neg_items_emb_final, neg_items_emb_0 = items_emb_final[\n",
        "        neg_item_indices], items_emb_0[neg_item_indices]\n",
        "\n",
        "    loss = bpr_loss(users_emb_final, users_emb_0, pos_items_emb_final, pos_items_emb_0,\n",
        "                    neg_items_emb_final, neg_items_emb_0, lambda_val).item()\n",
        "\n",
        "    recall, precision, ndcg = get_metrics(\n",
        "        model, edge_index, exclude_edge_indices, k)\n",
        "\n",
        "    return loss, recall, precision, ndcg\n",
        "def blog_fit(model, blog_tet_edge_data, blog_tet_sparse_data, epochs = 50):\n",
        "  # define contants\n",
        "  ITERATIONS = epochs\n",
        "  BATCH_SIZE = 2048\n",
        "  LR = 1e-3\n",
        "  ITERS_PER_EVAL = 300\n",
        "  ITERS_PER_LR_DECAY = 300\n",
        "  K = 10\n",
        "  LAMBDA = 1e-6\n",
        "\n",
        "  model = model.to(device)\n",
        "  model.train()\n",
        "\n",
        "  optimizer = optim.Adam(model.parameters(), lr=LR)\n",
        "  scheduler = optim.lr_scheduler.ExponentialLR(optimizer, gamma=0.95)\n",
        "\n",
        "  edge_index = blog_tet_edge_data[0].to(device)\n",
        "  train_edge_index = blog_tet_edge_data[1].to(device)\n",
        "  train_sparse_edge_index = blog_tet_sparse_data[0].to(device)\n",
        "\n",
        "  val_edge_index = blog_tet_edge_data[2].to(device)\n",
        "  val_sparse_edge_index = blog_tet_sparse_data[1].to(device)\n",
        "\n",
        "  # training loop\n",
        "  train_losses = []\n",
        "  val_losses = []\n",
        "\n",
        "  for iter in range(ITERATIONS):\n",
        "      # forward propagation\n",
        "      users_emb_final, users_emb_0, items_emb_final, items_emb_0 = model.forward(\n",
        "          train_sparse_edge_index)\n",
        "\n",
        "      # mini batching\n",
        "      user_indices, pos_item_indices, neg_item_indices = sample_mini_batch(\n",
        "          BATCH_SIZE, train_edge_index)\n",
        "      user_indices, pos_item_indices, neg_item_indices = user_indices.to(\n",
        "          device), pos_item_indices.to(device), neg_item_indices.to(device)\n",
        "      users_emb_final, users_emb_0 = users_emb_final[user_indices], users_emb_0[user_indices]\n",
        "      pos_items_emb_final, pos_items_emb_0 = items_emb_final[\n",
        "          pos_item_indices], items_emb_0[pos_item_indices]\n",
        "      neg_items_emb_final, neg_items_emb_0 = items_emb_final[\n",
        "          neg_item_indices], items_emb_0[neg_item_indices]\n",
        "\n",
        "      # loss computation\n",
        "      train_loss = bpr_loss(users_emb_final, users_emb_0, pos_items_emb_final,\n",
        "                            pos_items_emb_0, neg_items_emb_final, neg_items_emb_0, LAMBDA)\n",
        "\n",
        "      optimizer.zero_grad()\n",
        "      train_loss.backward()\n",
        "      optimizer.step()\n",
        "\n",
        "      if iter % ITERS_PER_EVAL == 0:\n",
        "          model.eval()\n",
        "          val_loss, recall, precision, ndcg = evaluation(\n",
        "              model, val_edge_index, val_sparse_edge_index, [train_edge_index], K, LAMBDA)\n",
        "          print(f\"[Iteration {iter}/{ITERATIONS}] train_loss: {round(train_loss.item(), 5)}, val_loss: {round(val_loss, 5)}, val_recall@{K}: {round(recall, 5)}, val_precision@{K}: {round(precision, 5)}, val_ndcg@{K}: {round(ndcg, 5)}\")\n",
        "          train_losses.append(train_loss.item())\n",
        "          val_losses.append(val_loss)\n",
        "          model.train()\n",
        "\n",
        "      if iter % ITERS_PER_LR_DECAY == 0 and iter != 0:\n",
        "          scheduler.step()\n",
        "  iters = [iter * ITERS_PER_EVAL for iter in range(len(train_losses))]\n",
        "  plt.plot(iters, train_losses, label='train')\n",
        "  plt.plot(iters, val_losses, label='validation')\n",
        "  plt.xlabel('iteration')\n",
        "  plt.ylabel('loss')\n",
        "  plt.title('training and validation loss curves')\n",
        "  plt.legend()\n",
        "  plt.show()"
      ],
      "metadata": {
        "id": "p3dErS5wIhph"
      },
      "execution_count": null,
      "outputs": []
    },
    {
      "cell_type": "markdown",
      "source": [
        "### 학습 확인"
      ],
      "metadata": {
        "id": "1ErFWeGqKFJa"
      }
    },
    {
      "cell_type": "code",
      "source": [
        "blog_fit(blog_model, blog_tet_edge_data, blog_tet_sparse_data, epochs =20000)"
      ],
      "metadata": {
        "colab": {
          "base_uri": "https://localhost:8080/",
          "height": 1000
        },
        "id": "g5Hc0CpYIoUW",
        "outputId": "e0674b48-179c-4c5c-82b7-961773ee12c1"
      },
      "execution_count": null,
      "outputs": [
        {
          "output_type": "stream",
          "name": "stdout",
          "text": [
            "[Iteration 0/20000] train_loss: -1.46415, val_loss: -1.24316, val_recall@10: 0.07699, val_precision@10: 0.04973, val_ndcg@10: 0.0715\n",
            "[Iteration 300/20000] train_loss: -7.9834, val_loss: -6.69342, val_recall@10: 0.08248, val_precision@10: 0.05385, val_ndcg@10: 0.07929\n",
            "[Iteration 600/20000] train_loss: -25.82973, val_loss: -21.76326, val_recall@10: 0.07912, val_precision@10: 0.05331, val_ndcg@10: 0.08168\n",
            "[Iteration 900/20000] train_loss: -54.5865, val_loss: -45.71547, val_recall@10: 0.07907, val_precision@10: 0.05385, val_ndcg@10: 0.08233\n",
            "[Iteration 1200/20000] train_loss: -88.74312, val_loss: -75.34441, val_recall@10: 0.08085, val_precision@10: 0.0542, val_ndcg@10: 0.08393\n",
            "[Iteration 1500/20000] train_loss: -130.06308, val_loss: -109.89406, val_recall@10: 0.08043, val_precision@10: 0.05492, val_ndcg@10: 0.08426\n",
            "[Iteration 1800/20000] train_loss: -174.10085, val_loss: -147.38057, val_recall@10: 0.0803, val_precision@10: 0.0551, val_ndcg@10: 0.08478\n",
            "[Iteration 2100/20000] train_loss: -220.11588, val_loss: -186.21646, val_recall@10: 0.08144, val_precision@10: 0.05528, val_ndcg@10: 0.08525\n",
            "[Iteration 2400/20000] train_loss: -260.40536, val_loss: -227.12592, val_recall@10: 0.08679, val_precision@10: 0.05617, val_ndcg@10: 0.08721\n",
            "[Iteration 2700/20000] train_loss: -315.63983, val_loss: -269.57724, val_recall@10: 0.0842, val_precision@10: 0.05564, val_ndcg@10: 0.08645\n",
            "[Iteration 3000/20000] train_loss: -357.56995, val_loss: -309.02942, val_recall@10: 0.08223, val_precision@10: 0.05564, val_ndcg@10: 0.08619\n",
            "[Iteration 3300/20000] train_loss: -411.44968, val_loss: -346.64972, val_recall@10: 0.08524, val_precision@10: 0.05617, val_ndcg@10: 0.08724\n",
            "[Iteration 3600/20000] train_loss: -463.74203, val_loss: -393.47009, val_recall@10: 0.08472, val_precision@10: 0.05617, val_ndcg@10: 0.08709\n",
            "[Iteration 3900/20000] train_loss: -516.34747, val_loss: -430.46802, val_recall@10: 0.08223, val_precision@10: 0.05564, val_ndcg@10: 0.08615\n",
            "[Iteration 4200/20000] train_loss: -550.14044, val_loss: -466.43124, val_recall@10: 0.08525, val_precision@10: 0.05653, val_ndcg@10: 0.08748\n",
            "[Iteration 4500/20000] train_loss: -613.7005, val_loss: -507.83768, val_recall@10: 0.08486, val_precision@10: 0.05617, val_ndcg@10: 0.08742\n",
            "[Iteration 4800/20000] train_loss: -663.27362, val_loss: -546.73511, val_recall@10: 0.08544, val_precision@10: 0.05617, val_ndcg@10: 0.08764\n",
            "[Iteration 5100/20000] train_loss: -706.07452, val_loss: -581.04205, val_recall@10: 0.08536, val_precision@10: 0.05599, val_ndcg@10: 0.08751\n",
            "[Iteration 5400/20000] train_loss: -751.3136, val_loss: -612.27887, val_recall@10: 0.08577, val_precision@10: 0.05617, val_ndcg@10: 0.08788\n",
            "[Iteration 5700/20000] train_loss: -769.69696, val_loss: -649.51685, val_recall@10: 0.08531, val_precision@10: 0.05564, val_ndcg@10: 0.08753\n",
            "[Iteration 6000/20000] train_loss: -824.18073, val_loss: -683.88916, val_recall@10: 0.08533, val_precision@10: 0.05599, val_ndcg@10: 0.08772\n",
            "[Iteration 6300/20000] train_loss: -847.24927, val_loss: -716.60803, val_recall@10: 0.08553, val_precision@10: 0.05599, val_ndcg@10: 0.08784\n",
            "[Iteration 6600/20000] train_loss: -874.46265, val_loss: -742.07471, val_recall@10: 0.08561, val_precision@10: 0.05581, val_ndcg@10: 0.08777\n",
            "[Iteration 6900/20000] train_loss: -951.61005, val_loss: -766.82977, val_recall@10: 0.0871, val_precision@10: 0.05581, val_ndcg@10: 0.08816\n",
            "[Iteration 7200/20000] train_loss: -950.95093, val_loss: -797.8125, val_recall@10: 0.08662, val_precision@10: 0.05564, val_ndcg@10: 0.08795\n",
            "[Iteration 7500/20000] train_loss: -961.76099, val_loss: -826.08459, val_recall@10: 0.0871, val_precision@10: 0.05581, val_ndcg@10: 0.08818\n",
            "[Iteration 7800/20000] train_loss: -1013.26611, val_loss: -863.12207, val_recall@10: 0.08709, val_precision@10: 0.05617, val_ndcg@10: 0.08832\n",
            "[Iteration 8100/20000] train_loss: -1054.21033, val_loss: -883.19904, val_recall@10: 0.08709, val_precision@10: 0.05617, val_ndcg@10: 0.08829\n",
            "[Iteration 8400/20000] train_loss: -1068.95935, val_loss: -904.68597, val_recall@10: 0.08704, val_precision@10: 0.05617, val_ndcg@10: 0.0883\n",
            "[Iteration 8700/20000] train_loss: -1099.95593, val_loss: -930.37433, val_recall@10: 0.08732, val_precision@10: 0.05653, val_ndcg@10: 0.08851\n",
            "[Iteration 9000/20000] train_loss: -1150.69824, val_loss: -956.5896, val_recall@10: 0.08776, val_precision@10: 0.05635, val_ndcg@10: 0.08858\n",
            "[Iteration 9300/20000] train_loss: -1171.87891, val_loss: -979.50055, val_recall@10: 0.08764, val_precision@10: 0.05617, val_ndcg@10: 0.08846\n",
            "[Iteration 9600/20000] train_loss: -1208.12402, val_loss: -983.39532, val_recall@10: 0.08753, val_precision@10: 0.05599, val_ndcg@10: 0.08835\n",
            "[Iteration 9900/20000] train_loss: -1213.96118, val_loss: -1009.06744, val_recall@10: 0.08735, val_precision@10: 0.05581, val_ndcg@10: 0.08823\n",
            "[Iteration 10200/20000] train_loss: -1246.39368, val_loss: -1027.4231, val_recall@10: 0.08693, val_precision@10: 0.05581, val_ndcg@10: 0.08814\n",
            "[Iteration 10500/20000] train_loss: -1275.48535, val_loss: -1051.75415, val_recall@10: 0.08694, val_precision@10: 0.05581, val_ndcg@10: 0.08798\n",
            "[Iteration 10800/20000] train_loss: -1299.59058, val_loss: -1076.19727, val_recall@10: 0.08704, val_precision@10: 0.05599, val_ndcg@10: 0.08818\n",
            "[Iteration 11100/20000] train_loss: -1324.77454, val_loss: -1071.82458, val_recall@10: 0.08694, val_precision@10: 0.05581, val_ndcg@10: 0.08814\n",
            "[Iteration 11400/20000] train_loss: -1277.18628, val_loss: -1102.74146, val_recall@10: 0.08682, val_precision@10: 0.05564, val_ndcg@10: 0.08795\n",
            "[Iteration 11700/20000] train_loss: -1330.35913, val_loss: -1113.24609, val_recall@10: 0.08759, val_precision@10: 0.05617, val_ndcg@10: 0.08846\n",
            "[Iteration 12000/20000] train_loss: -1342.19275, val_loss: -1120.33496, val_recall@10: 0.08699, val_precision@10: 0.05599, val_ndcg@10: 0.08819\n",
            "[Iteration 12300/20000] train_loss: -1357.28796, val_loss: -1141.55481, val_recall@10: 0.08754, val_precision@10: 0.05599, val_ndcg@10: 0.08833\n",
            "[Iteration 12600/20000] train_loss: -1384.34155, val_loss: -1163.97046, val_recall@10: 0.08658, val_precision@10: 0.05564, val_ndcg@10: 0.08788\n",
            "[Iteration 12900/20000] train_loss: -1371.5708, val_loss: -1161.62646, val_recall@10: 0.08694, val_precision@10: 0.05581, val_ndcg@10: 0.08807\n",
            "[Iteration 13200/20000] train_loss: -1386.7865, val_loss: -1181.78223, val_recall@10: 0.08658, val_precision@10: 0.05564, val_ndcg@10: 0.0879\n",
            "[Iteration 13500/20000] train_loss: -1422.84961, val_loss: -1202.37903, val_recall@10: 0.08647, val_precision@10: 0.05564, val_ndcg@10: 0.08791\n",
            "[Iteration 13800/20000] train_loss: -1423.51294, val_loss: -1196.14868, val_recall@10: 0.08659, val_precision@10: 0.05581, val_ndcg@10: 0.08799\n",
            "[Iteration 14100/20000] train_loss: -1450.75476, val_loss: -1203.75098, val_recall@10: 0.08599, val_precision@10: 0.05564, val_ndcg@10: 0.08784\n",
            "[Iteration 14400/20000] train_loss: -1467.40771, val_loss: -1223.74414, val_recall@10: 0.08599, val_precision@10: 0.05564, val_ndcg@10: 0.08781\n",
            "[Iteration 14700/20000] train_loss: -1460.16248, val_loss: -1237.15161, val_recall@10: 0.08594, val_precision@10: 0.05546, val_ndcg@10: 0.08765\n",
            "[Iteration 15000/20000] train_loss: -1474.73987, val_loss: -1235.68835, val_recall@10: 0.08597, val_precision@10: 0.05564, val_ndcg@10: 0.08781\n",
            "[Iteration 15300/20000] train_loss: -1476.79626, val_loss: -1232.83044, val_recall@10: 0.08597, val_precision@10: 0.05564, val_ndcg@10: 0.0878\n",
            "[Iteration 15600/20000] train_loss: -1502.35669, val_loss: -1253.72046, val_recall@10: 0.08597, val_precision@10: 0.05564, val_ndcg@10: 0.0878\n",
            "[Iteration 15900/20000] train_loss: -1464.8269, val_loss: -1254.69897, val_recall@10: 0.08597, val_precision@10: 0.05564, val_ndcg@10: 0.08781\n",
            "[Iteration 16200/20000] train_loss: -1528.35156, val_loss: -1272.28455, val_recall@10: 0.08657, val_precision@10: 0.05581, val_ndcg@10: 0.0884\n",
            "[Iteration 16500/20000] train_loss: -1536.77588, val_loss: -1285.03162, val_recall@10: 0.08657, val_precision@10: 0.05581, val_ndcg@10: 0.08815\n",
            "[Iteration 16800/20000] train_loss: -1510.61426, val_loss: -1275.21863, val_recall@10: 0.08657, val_precision@10: 0.05581, val_ndcg@10: 0.08819\n",
            "[Iteration 17100/20000] train_loss: -1518.09265, val_loss: -1300.62573, val_recall@10: 0.08657, val_precision@10: 0.05581, val_ndcg@10: 0.08811\n",
            "[Iteration 17400/20000] train_loss: -1536.08826, val_loss: -1303.00012, val_recall@10: 0.08673, val_precision@10: 0.05599, val_ndcg@10: 0.08809\n",
            "[Iteration 17700/20000] train_loss: -1520.51111, val_loss: -1293.30286, val_recall@10: 0.08657, val_precision@10: 0.05581, val_ndcg@10: 0.08799\n",
            "[Iteration 18000/20000] train_loss: -1588.77576, val_loss: -1311.04614, val_recall@10: 0.08657, val_precision@10: 0.05581, val_ndcg@10: 0.08804\n",
            "[Iteration 18300/20000] train_loss: -1556.91357, val_loss: -1308.64844, val_recall@10: 0.08657, val_precision@10: 0.05581, val_ndcg@10: 0.08827\n",
            "[Iteration 18600/20000] train_loss: -1564.76477, val_loss: -1321.4762, val_recall@10: 0.08657, val_precision@10: 0.05581, val_ndcg@10: 0.08792\n",
            "[Iteration 18900/20000] train_loss: -1579.50159, val_loss: -1320.26758, val_recall@10: 0.08657, val_precision@10: 0.05581, val_ndcg@10: 0.08803\n",
            "[Iteration 19200/20000] train_loss: -1558.44409, val_loss: -1324.33142, val_recall@10: 0.08657, val_precision@10: 0.05581, val_ndcg@10: 0.08825\n",
            "[Iteration 19500/20000] train_loss: -1589.77429, val_loss: -1322.94556, val_recall@10: 0.08657, val_precision@10: 0.05581, val_ndcg@10: 0.08822\n",
            "[Iteration 19800/20000] train_loss: -1632.81628, val_loss: -1325.48865, val_recall@10: 0.08657, val_precision@10: 0.05581, val_ndcg@10: 0.08792\n"
          ]
        },
        {
          "output_type": "display_data",
          "data": {
            "text/plain": [
              "<Figure size 640x480 with 1 Axes>"
            ],
            "image/png": "[encoded data removed]"
          },
          "metadata": {}
        }
      ]
    },
    {
      "cell_type": "code",
      "source": [
        "def blog_predict(model, user_id ,TopK, path, user_mapping, item_mapping, edge_index):\n",
        "\n",
        "  df = pd.read_csv(path[1])\n",
        "  movieid_title = pd.Series(df.title.values,index=df.movieId).to_dict()\n",
        "  movieid_genres = pd.Series(df.genres.values,index=df.movieId).to_dict()\n",
        "\n",
        "  user_pos_items = get_user_positive_items(edge_index)\n",
        "  user = user_mapping[user_id]\n",
        "  e_u = model.users_emb.weight[user]\n",
        "  scores = model.items_emb.weight @ e_u\n",
        "\n",
        "  values, indices = torch.topk(scores, k=len(user_pos_items[user]) + TopK)\n",
        "\n",
        "  movies = [index.cpu().item() for index in indices if index in user_pos_items[user]][:TopK]\n",
        "  movie_ids = [list(item_mapping.keys())[list(item_mapping.values()).index(movie)] for movie in movies]\n",
        "  titles = [movieid_title[id] for id in movie_ids]\n",
        "  genres = [movieid_genres[id] for id in movie_ids]\n",
        "\n",
        "  # print(f\"Here are some movies that user {user_id} rated highly\")\n",
        "  # for i in range(TopK):\n",
        "  #     print(f\"title: {titles[i]}, genres: {genres[i]} \")\n",
        "\n",
        "  movies = [index.cpu().item() for index in indices if index not in user_pos_items[user]][:TopK]\n",
        "  movie_ids = [list(item_mapping.keys())[list(item_mapping.values()).index(movie)] for movie in movies]\n",
        "  titles = [movieid_title[id] for id in movie_ids]\n",
        "  genres = [movieid_genres[id] for id in movie_ids]\n",
        "\n",
        "  # print(f\"Here are some suggested movies for user {user_id}\")\n",
        "  return titles, genres"
      ],
      "metadata": {
        "id": "NP-6iPvpPqso"
      },
      "execution_count": null,
      "outputs": []
    },
    {
      "cell_type": "code",
      "source": [
        "user_id = 1\n",
        "excluded_user = user_id\n",
        "K = 10\n",
        "rating_threshold = 4"
      ],
      "metadata": {
        "id": "Zzs_8eJ8P3J8"
      },
      "execution_count": null,
      "outputs": []
    },
    {
      "cell_type": "code",
      "source": [
        "blog_titles_32_5000, blog_genres_32_5000 = blog_predict(blog_model, user_id , K, path, user_mapping, item_mapping, blog_tet_edge_data[0])"
      ],
      "metadata": {
        "id": "FQcQu1fgP70G"
      },
      "execution_count": null,
      "outputs": []
    },
    {
      "cell_type": "code",
      "source": [
        "#-- 내가 삭제한 데이터\n",
        "data = pd.read_csv(path[0])\n",
        "user_data = data[data[data_frame[0]] == excluded_user]\n",
        "user_data_5stars = user_data[user_data[data_frame[2]] >= rating_threshold]  # Filter the data with a rating of 5.0r_user_data[r_user_data[data_frame[2]] == 5.0]  # Filter the data with a rating of 5.0\n",
        "# print(user_data_5stars.head(10))\n",
        "data = user_data_5stars.head(30)\n",
        "moviedIds = data['movieId'].values\n",
        "\n",
        "df = pd.read_csv(path[1])\n",
        "\n",
        "titles = []\n",
        "genres = []\n",
        "for i in moviedIds:\n",
        "    title = df[df['movieId'] == i]['title']\n",
        "    genre = df[df['movieId'] == i]['genres']\n",
        "    titles.append(title)\n",
        "    genres.append(genre)\n",
        "for i in range(len(moviedIds)):\n",
        "  print(f\"title: {titles[i].values}, genres: {genres[i].values} \")"
      ],
      "metadata": {
        "colab": {
          "base_uri": "https://localhost:8080/"
        },
        "id": "BJPLozDeSfmB",
        "outputId": "84c19e57-10cd-4343-ba81-7c48ecd8e7a8"
      },
      "execution_count": null,
      "outputs": [
        {
          "output_type": "stream",
          "name": "stdout",
          "text": [
            "title: ['Toy Story (1995)'], genres: ['Adventure|Animation|Children|Comedy|Fantasy'] \n",
            "title: ['Grumpier Old Men (1995)'], genres: ['Comedy|Romance'] \n",
            "title: ['Heat (1995)'], genres: ['Action|Crime|Thriller'] \n",
            "title: ['Seven (a.k.a. Se7en) (1995)'], genres: ['Mystery|Thriller'] \n",
            "title: ['Usual Suspects, The (1995)'], genres: ['Crime|Mystery|Thriller'] \n",
            "title: ['Bottle Rocket (1996)'], genres: ['Adventure|Comedy|Crime|Romance'] \n",
            "title: ['Braveheart (1995)'], genres: ['Action|Drama|War'] \n",
            "title: ['Rob Roy (1995)'], genres: ['Action|Drama|Romance|War'] \n",
            "title: ['Canadian Bacon (1995)'], genres: ['Comedy|War'] \n",
            "title: ['Desperado (1995)'], genres: ['Action|Romance|Western'] \n",
            "title: ['Billy Madison (1995)'], genres: ['Comedy'] \n",
            "title: ['Dumb & Dumber (Dumb and Dumber) (1994)'], genres: ['Adventure|Comedy'] \n",
            "title: ['Ed Wood (1994)'], genres: ['Comedy|Drama'] \n",
            "title: ['Star Wars: Episode IV - A New Hope (1977)'], genres: ['Action|Adventure|Sci-Fi'] \n",
            "title: ['Tommy Boy (1995)'], genres: ['Comedy'] \n",
            "title: ['Clear and Present Danger (1994)'], genres: ['Action|Crime|Drama|Thriller'] \n",
            "title: ['Forrest Gump (1994)'], genres: ['Comedy|Drama|Romance|War'] \n",
            "title: ['Jungle Book, The (1994)'], genres: ['Adventure|Children|Romance'] \n",
            "title: ['Mask, The (1994)'], genres: ['Action|Comedy|Crime|Fantasy'] \n",
            "title: ['Dazed and Confused (1993)'], genres: ['Comedy'] \n",
            "title: ['Fugitive, The (1993)'], genres: ['Thriller'] \n",
            "title: ['Jurassic Park (1993)'], genres: ['Action|Adventure|Sci-Fi|Thriller'] \n",
            "title: [\"Schindler's List (1993)\"], genres: ['Drama|War'] \n",
            "title: ['So I Married an Axe Murderer (1993)'], genres: ['Comedy|Romance|Thriller'] \n",
            "title: ['Three Musketeers, The (1993)'], genres: ['Action|Adventure|Comedy|Romance'] \n",
            "title: ['Tombstone (1993)'], genres: ['Action|Drama|Western'] \n",
            "title: ['Dances with Wolves (1990)'], genres: ['Adventure|Drama|Western'] \n",
            "title: ['Batman (1989)'], genres: ['Action|Crime|Thriller'] \n",
            "title: ['Silence of the Lambs, The (1991)'], genres: ['Crime|Horror|Thriller'] \n",
            "title: ['Pinocchio (1940)'], genres: ['Animation|Children|Fantasy|Musical'] \n"
          ]
        }
      ]
    },
    {
      "cell_type": "code",
      "source": [
        "#-- BLOG LightGCN\n",
        "for i in range(K):\n",
        "    # if any((blog_titles_32_5000[i] == title.values).all() for title in titles):\n",
        "        print(blog_titles_32_5000[i])\n",
        "print(\"==========================임베딩 사이즈 : 32, 에포크 : 5000 =============================\")"
      ],
      "metadata": {
        "colab": {
          "base_uri": "https://localhost:8080/"
        },
        "id": "B_0diHYfSiY1",
        "outputId": "c21a3091-2fcc-45af-fa96-05859a7d000f"
      },
      "execution_count": null,
      "outputs": [
        {
          "output_type": "stream",
          "name": "stdout",
          "text": [
            "Shawshank Redemption, The (1994)\n",
            "Pulp Fiction (1994)\n",
            "Godfather, The (1972)\n",
            "Terminator 2: Judgment Day (1991)\n",
            "Apollo 13 (1995)\n",
            "Lord of the Rings: The Return of the King, The (2003)\n",
            "Lord of the Rings: The Fellowship of the Ring, The (2001)\n",
            "Lord of the Rings: The Two Towers, The (2002)\n",
            "Lion King, The (1994)\n",
            "Memento (2000)\n",
            "==========================임베딩 사이즈 : 32, 에포크 : 5000 =============================\n"
          ]
        }
      ]
    },
    {
      "cell_type": "markdown",
      "source": [
        "LightGCN"
      ],
      "metadata": {
        "id": "mkBewTXLiOeL"
      }
    },
    {
      "cell_type": "code",
      "source": [
        "num_users = blog_tet_edge_data[0][0].max().item()+1\n",
        "num_items = blog_tet_edge_data[0][1].max().item()+1\n",
        "edge_index = blog_tet_edge_data[0] #-- edge_index 정보가 들어있음\n",
        "\n",
        "embedding_dim = 32\n",
        "\n",
        "user_indices = blog_tet_edge_data[1][0]\n",
        "item_indices = blog_tet_edge_data[1][1]\n",
        "\n",
        "K = 3\n",
        "add_self_loops = False\n",
        "\n",
        "gcn_user_embeddings = nn.Embedding(num_users, embedding_dim)\n",
        "gcn_item_embeddings = nn.Embedding(num_items, embedding_dim)\n",
        "\n",
        "nn.init.normal_(gcn_user_embeddings.weight, std=0.1)\n",
        "nn.init.normal_(gcn_item_embeddings.weight, std=0.1)\n",
        "\n",
        "print(gcn_user_embeddings) #-- Embedding(610, 32)\n",
        "print(gcn_item_embeddings) #-- Embedding(9742, 32)\n",
        "\n",
        "edge_index_norm = gcn_norm(\n",
        "              edge_index, add_self_loops=False)\n",
        "\n",
        "# print(edge_index) #-- 전체 인덱스 정보\n",
        "# print(edge_index_norm[1]) #-- [0]번 인덱스 == edge_index [1]번 인덱스 == 정규화된 텐서값\n",
        "\n",
        "emb_0 = torch.cat([gcn_user_embeddings.weight, gcn_item_embeddings.weight]) # E^0\n",
        "#-- 유저와 아이템 임베딩을 합친 차원 [10352, 32]\n",
        "print(\"emb_0\", emb_0.size()) #-- 610 + 9742 => [10352, 32]\n",
        "embs = [emb_0]\n",
        "emb_k = emb_0\n",
        "\n"
      ],
      "metadata": {
        "colab": {
          "base_uri": "https://localhost:8080/",
          "height": 311
        },
        "id": "t0Y3L7zkiYRW",
        "outputId": "f35a35ca-07b6-4370-899b-a5d156ba6e44"
      },
      "execution_count": null,
      "outputs": [
        {
          "output_type": "stream",
          "name": "stdout",
          "text": [
            "Embedding(610, 32)\n",
            "Embedding(9742, 32)\n",
            "emb_0 torch.Size([10352, 32])\n"
          ]
        },
        {
          "output_type": "error",
          "ename": "NameError",
          "evalue": "ignored",
          "traceback": [
            "\u001b[0;31m---------------------------------------------------------------------------\u001b[0m",
            "\u001b[0;31mNameError\u001b[0m                                 Traceback (most recent call last)",
            "\u001b[0;32m<ipython-input-167-a6a13051db56>\u001b[0m in \u001b[0;36m<cell line: 34>\u001b[0;34m()\u001b[0m\n\u001b[1;32m     33\u001b[0m \u001b[0;34m\u001b[0m\u001b[0m\n\u001b[1;32m     34\u001b[0m \u001b[0;32mfor\u001b[0m \u001b[0mi\u001b[0m \u001b[0;32min\u001b[0m \u001b[0mrange\u001b[0m\u001b[0;34m(\u001b[0m\u001b[0mK\u001b[0m\u001b[0;34m)\u001b[0m\u001b[0;34m:\u001b[0m\u001b[0;34m\u001b[0m\u001b[0;34m\u001b[0m\u001b[0m\n\u001b[0;32m---> 35\u001b[0;31m   \u001b[0memb_k\u001b[0m \u001b[0;34m=\u001b[0m \u001b[0mpropagate\u001b[0m\u001b[0;34m(\u001b[0m\u001b[0medge_index_norm\u001b[0m\u001b[0;34m,\u001b[0m \u001b[0mx\u001b[0m\u001b[0;34m=\u001b[0m\u001b[0memb_k\u001b[0m\u001b[0;34m)\u001b[0m\u001b[0;34m\u001b[0m\u001b[0;34m\u001b[0m\u001b[0m\n\u001b[0m\u001b[1;32m     36\u001b[0m   \u001b[0membs\u001b[0m\u001b[0;34m.\u001b[0m\u001b[0mappend\u001b[0m\u001b[0;34m(\u001b[0m\u001b[0memb_k\u001b[0m\u001b[0;34m)\u001b[0m\u001b[0;34m\u001b[0m\u001b[0;34m\u001b[0m\u001b[0m\n\u001b[1;32m     37\u001b[0m \u001b[0membs\u001b[0m \u001b[0;34m=\u001b[0m \u001b[0mtorch\u001b[0m\u001b[0;34m.\u001b[0m\u001b[0mstack\u001b[0m\u001b[0;34m(\u001b[0m\u001b[0membs\u001b[0m\u001b[0;34m,\u001b[0m \u001b[0mdim\u001b[0m\u001b[0;34m=\u001b[0m\u001b[0;36m1\u001b[0m\u001b[0;34m)\u001b[0m\u001b[0;34m\u001b[0m\u001b[0;34m\u001b[0m\u001b[0m\n",
            "\u001b[0;31mNameError\u001b[0m: name 'propagate' is not defined"
          ]
        }
      ]
    },
    {
      "cell_type": "code",
      "source": [
        "class Blog_LightGCN(MessagePassing):\n",
        "      def __init__(self, num_users, num_items, embedding_dim=64, K=3, add_self_loops=False):\n",
        "          super().__init__()\n",
        "          self.num_users, self.num_items = num_users, num_items\n",
        "          self.embedding_dim, self.K = embedding_dim, K\n",
        "          self.add_self_loops = add_self_loops\n",
        "          self.users_emb = nn.Embedding(\n",
        "              num_embeddings=self.num_users, embedding_dim=self.embedding_dim) # e_u^0\n",
        "          self.items_emb = nn.Embedding(\n",
        "              num_embeddings=self.num_items, embedding_dim=self.embedding_dim) # e_i^0\n",
        "          nn.init.normal_(self.users_emb.weight, std=0.1)\n",
        "          nn.init.normal_(self.items_emb.weight, std=0.1)\n",
        "      def forward(self, edge_index: SparseTensor):\n",
        "          # compute \\tilde{A}: symmetrically normalized adjacency matrix\n",
        "          edge_index_norm = gcn_norm(\n",
        "              edge_index, add_self_loops=self.add_self_loops)\n",
        "          emb_0 = torch.cat([self.users_emb.weight, self.items_emb.weight]) # E^0\n",
        "          embs = [emb_0]\n",
        "          emb_k = emb_0\n",
        "\n",
        "          # multi-scale diffusion\n",
        "          for i in range(self.K):\n",
        "              emb_k = self.propagate(edge_index_norm, x=emb_k)\n",
        "              embs.append(emb_k)\n",
        "          embs = torch.stack(embs, dim=1)\n",
        "          emb_final = torch.mean(embs, dim=1) # E^K\n",
        "          users_emb_final, items_emb_final = torch.split(\n",
        "              emb_final, [self.num_users, self.num_items]) # splits into e_u^K and e_i^K\n",
        "          # returns e_u^K, e_u^0, e_i^K, e_i^0\n",
        "          return users_emb_final, self.users_emb.weight, items_emb_final, self.items_emb.weight\n",
        "\n",
        "      def message(self, x_j: Tensor) -> Tensor:\n",
        "          return x_j\n",
        "\n",
        "      def message_and_aggregate(self, adj_t: SparseTensor, x: Tensor) -> Tensor:\n",
        "          # computes \\tilde{A} @ x\n",
        "          return matmul(adj_t, x)"
      ],
      "metadata": {
        "id": "1Ra4mUWHiRIT"
      },
      "execution_count": null,
      "outputs": []
    },
    {
      "cell_type": "code",
      "source": [
        "class MatrixFactorization(nn.Module):\n",
        "    def __init__(self, num_users, num_items, embedding_dim):\n",
        "        super(MatrixFactorization, self).__init__()\n",
        "\n",
        "        self.user_embedding = nn.Embedding(num_users, embedding_dim)\n",
        "        self.item_embedding = nn.Embedding(num_items, embedding_dim)\n",
        "\n",
        "        # 임베딩 초기화\n",
        "        self.mf_user_embeddings = nn.Embedding(num_users, embedding_dim)\n",
        "        self.mf_item_embeddings = nn.Embedding(num_items, embedding_dim)\n",
        "\n",
        "\n",
        "    def forward(self, user_indices, item_indices):\n",
        "        user_embedding = self.user_embedding(user_indices)\n",
        "        item_embedding = self.item_embedding(item_indices)\n",
        "\n",
        "        # 내적 연산으로 평점 예측\n",
        "        predictions = (user_embedding * item_embedding).sum(1)\n",
        "        return predictions"
      ],
      "metadata": {
        "id": "eJNr7GCPExLt"
      },
      "execution_count": null,
      "outputs": []
    },
    {
      "cell_type": "code",
      "source": [
        "# 하이퍼 파라미터\n",
        "embedding_dim = 32\n",
        "learning_rate = 0.001\n",
        "num_epochs = 50\n",
        "\n",
        "num_users = blog_tet_edge_data[0][0].max().item()+1\n",
        "num_items = blog_tet_edge_data[0][1].max().item()+1\n",
        "# blog_tet_edge_data, blog_tet_sparse_data, user_mapping, item_mapping\n",
        "# print(blog_tet_edge_data[0][0])\n",
        "# print(blog_tet_edge_data[0][0].max().item())\n",
        "\n",
        "# print(blog_tet_edge_data[0][1])\n",
        "# print(blog_tet_edge_data[0][1].max().item())\n",
        "\n",
        "# 모델 초기화\n",
        "model = MatrixFactorization(num_users, num_items, embedding_dim).to(device)\n",
        "criterion = nn.MSELoss()\n",
        "optimizer = torch.optim.Adam(model.parameters(), lr=learning_rate)"
      ],
      "metadata": {
        "id": "K7kh9HTqHz31"
      },
      "execution_count": null,
      "outputs": []
    },
    {
      "cell_type": "code",
      "source": [
        "print(blog_tet_edge_data[1][0]) #-- train\n",
        "print(blog_tet_edge_data[1][1]) #-- train"
      ],
      "metadata": {
        "colab": {
          "base_uri": "https://localhost:8080/"
        },
        "id": "cpxwLpr9Lx8a",
        "outputId": "69726c70-3d32-4f17-87e0-4ba1c6609892"
      },
      "execution_count": null,
      "outputs": [
        {
          "output_type": "stream",
          "name": "stdout",
          "text": [
            "tensor([ 60, 124, 409,  ...,  65, 163, 427])\n",
            "tensor([1002, 4705,  820,  ..., 6422, 1044, 5309])\n"
          ]
        }
      ]
    },
    {
      "cell_type": "markdown",
      "source": [
        "\n",
        "`blog_tet_edge_data[1][0]`는 사용자 노드의 인덱스를,  \n",
        "`blog_tet_edge_data[1][1]`는 아이템 노드의 인덱스를 나타내는 텐서(tensor)입니다.\n",
        "\n",
        "예를 들어, 출력값의 첫 번째 엔트리를 보면:\n",
        "\n",
        "- `blog_tet_edge_data[1][0][0]`의 값은 60\n",
        "- `blog_tet_edge_data[1][1][0]`의 값은 1002\n",
        "\n",
        "이는 60번 사용자가 1002번 아이템에 대한 상호작용(예: 레이팅, 구매, 클릭 등)을 가지고 있다는 것을 의미합니다.\n",
        "\n",
        "각각의 쌍(pair)은 사용자와 아이템 사이의 상호작용을 나타내며, 이러한 상호작용들은 추천 시스템이나 그래프 기반의 머신 러닝 태스크에서 중요한 정보를 제공합니다."
      ],
      "metadata": {
        "id": "2EJPm-2ZNO6S"
      }
    },
    {
      "cell_type": "code",
      "source": [
        "user_indices =blog_tet_edge_data[1][0]\n",
        "item_indices = blog_tet_edge_data[1][1]"
      ],
      "metadata": {
        "id": "eAwhW1z-JeDg"
      },
      "execution_count": null,
      "outputs": []
    },
    {
      "cell_type": "code",
      "source": [
        "print(user_indices)\n",
        "print(item_indices)"
      ],
      "metadata": {
        "colab": {
          "base_uri": "https://localhost:8080/"
        },
        "id": "Bk8ZcFNeKk1g",
        "outputId": "f1d03638-b447-4b4d-908b-a7cbdeda3ea8"
      },
      "execution_count": null,
      "outputs": [
        {
          "output_type": "stream",
          "name": "stdout",
          "text": [
            "tensor([ 60, 124, 409,  ...,  65, 163, 427])\n",
            "tensor([1002, 4705,  820,  ..., 6422, 1044, 5309])\n"
          ]
        }
      ]
    },
    {
      "cell_type": "code",
      "source": [
        "#-- 손실함수 bpr\n",
        "def bpr_loss(users_emb_final, users_emb_0, pos_items_emb_final, pos_items_emb_0, neg_items_emb_final, neg_items_emb_0, lambda_val):\n",
        "    reg_loss = lambda_val * (users_emb_0.norm(2).pow(2) +\n",
        "                             pos_items_emb_0.norm(2).pow(2) +\n",
        "                             neg_items_emb_0.norm(2).pow(2)) # L2 loss\n",
        "\n",
        "    pos_scores = torch.mul(users_emb_final, pos_items_emb_final)\n",
        "    pos_scores = torch.sum(pos_scores, dim=-1) # predicted scores of positive samples\n",
        "    neg_scores = torch.mul(users_emb_final, neg_items_emb_final)\n",
        "    neg_scores = torch.sum(neg_scores, dim=-1) # predicted scores of negative samples\n",
        "\n",
        "    loss = -torch.mean(torch.nn.functional.softplus(pos_scores - neg_scores)) + reg_loss\n",
        "    return loss"
      ],
      "metadata": {
        "id": "XRjHpzqoYIOD"
      },
      "execution_count": null,
      "outputs": []
    }
  ]
}